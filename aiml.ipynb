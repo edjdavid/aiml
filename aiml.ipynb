{
 "cells": [
  {
   "cell_type": "code",
   "execution_count": 1,
   "metadata": {},
   "outputs": [
    {
     "name": "stderr",
     "output_type": "stream",
     "text": [
      "/Users/edavid/anaconda3/lib/python3.6/site-packages/tqdm/autonotebook/__init__.py:14: TqdmExperimentalWarning: Using `tqdm.autonotebook.tqdm` in notebook mode. Use `tqdm.tqdm` instead to force console mode (e.g. in jupyter console)\n",
      "  \" (e.g. in jupyter console)\", TqdmExperimentalWarning)\n"
     ]
    }
   ],
   "source": [
    "import numpy as np\n",
    "import pandas as pd\n",
    "import warnings\n",
    "\n",
    "from random import randint\n",
    "from tqdm.autonotebook import tqdm\n",
    "from functools import partial\n",
    "\n",
    "# plotting\n",
    "import matplotlib.pyplot as plt\n",
    "from matplotlib.gridspec import GridSpec\n",
    "\n",
    "# ML algo\n",
    "from sklearn.model_selection import train_test_split\n",
    "from sklearn.neighbors import KNeighborsClassifier, KNeighborsRegressor\n",
    "from sklearn.linear_model import Ridge, Lasso, LinearRegression, LogisticRegression\n",
    "from sklearn.svm import LinearSVC\n",
    "from sklearn.exceptions import ConvergenceWarning"
   ]
  },
  {
   "cell_type": "markdown",
   "metadata": {},
   "source": [
    "#### Note: Someone please write the documentation ;)"
   ]
  },
  {
   "cell_type": "code",
   "execution_count": 2,
   "metadata": {},
   "outputs": [],
   "source": [
    "class MLModels():\n",
    "    # safe to change\n",
    "    n_trials = 50\n",
    "    random_state = None\n",
    "    pred_var_setting = 0.01\n",
    "    \n",
    "    # not so safe to change\n",
    "    model = None\n",
    "    _setting_name = None\n",
    "    \n",
    "    def __init__(self):\n",
    "        self.training_accuracy = None\n",
    "        self.test_accuracy = None\n",
    "        self.training_std = None\n",
    "        self.test_std = None\n",
    "        self.coef = None\n",
    "        \n",
    "    def plot_accuracy(self):\n",
    "        fig, ax = plt.subplots()\n",
    "        ax.plot(self._setting, self.training_accuracy, label=\"training accuracy\")\n",
    "        ax.plot(self._setting, self.test_accuracy, label=\"test accuracy\")\n",
    "        ax.fill_between(self._setting, self.training_accuracy-self.training_std, self.training_accuracy+self.training_std, alpha=0.2)\n",
    "        ax.fill_between(self._setting, self.test_accuracy-self.test_std, self.test_accuracy+self.test_std, alpha=0.2)\n",
    "        ax.set_ylabel(\"Accuracy\")\n",
    "        ax.set_xlabel(self._setting_name)\n",
    "        ax.legend()\n",
    "        return ax\n",
    "        \n",
    "    def train_test(self, X, y):\n",
    "        train_accuracies = []\n",
    "        test_accuracies = []\n",
    "        if self.pred_var_setting is not None:\n",
    "            self._setting = sorted(list(set(self._setting).union({self.pred_var_setting})))\n",
    "        with tqdm(total=self.n_trials*len(self._setting)) as pb:\n",
    "            for i in range(self.n_trials):\n",
    "                X_train, X_test, y_train, y_test = train_test_split(X, y, random_state=self.random_state)\n",
    "                pb.set_description(f'Iter: {i + 1}')\n",
    "                training_accuracy = []\n",
    "                test_accuracy = []\n",
    "                feature_coef = []\n",
    "                for s in self._setting:\n",
    "                    # build the model\n",
    "                    clf = self.model(**{self._setting_name: s})\n",
    "                    clf.fit(X_train, y_train)\n",
    "                    # record training set accuracy\n",
    "                    training_accuracy.append(clf.score(X_train, y_train))\n",
    "                    # record generalization accuracy\n",
    "                    test_accuracy.append(clf.score(X_test, y_test))\n",
    "                    if s == self.pred_var_setting:\n",
    "                        try:\n",
    "                            feature_coef.append(clf.coef_)\n",
    "                        except AttributeError:\n",
    "                            pass\n",
    "                    pb.update(1)\n",
    "                    \n",
    "                train_accuracies.append(training_accuracy)\n",
    "                test_accuracies.append(test_accuracy)\n",
    "\n",
    "        self.training_accuracy = np.mean(train_accuracies, axis=0)\n",
    "        self.test_accuracy = np.mean(test_accuracies, axis=0)\n",
    "        self.training_std = np.std(train_accuracies, axis=0)\n",
    "        self.test_std = np.std(test_accuracies, axis=0)\n",
    "        if feature_coef:\n",
    "            self.coef = np.mean(feature_coef, axis=0)\n",
    "            \n",
    "    def run_classifier(X, labels, feature_names=None):\n",
    "        alpha = [1e-12, 1e-10, 1e-8, 1e-4, 1e-3,0.1, 0.2,0.4, 0.75, 1, 1.5, 3, 5, 10, 15,  20]\n",
    "        C = [1e-8, 1e-4, 1e-3,0.1, 0.2,0.4, 0.75, 1, 1.5, 3, 5, 10, 15,  20, 100, 300, 1000, 5000]\n",
    "        n_nb = list(range(1, 51))\n",
    "        methods = {\n",
    "            'KNN': KNNClassifier(n_nb),\n",
    "            'Logistic Regression (L1)': LogisticRegressor(C, 'l1'),\n",
    "            'Logistic Regression (L2)': LogisticRegressor(C, 'l2'),\n",
    "            'SVC (L1)': LinearSVM(C, 'l1'),\n",
    "            'SVC (L2)': LinearSVM(C, 'l2')\n",
    "        }\n",
    "        \n",
    "        with warnings.catch_warnings():\n",
    "            warnings.filterwarnings(\"ignore\", category=ConvergenceWarning)\n",
    "            for k in methods:\n",
    "                print(k)\n",
    "                m = methods[k]\n",
    "                m.train_test(X, labels)\n",
    "                \n",
    "        print(MLModels.summarize(methods, feature_names if feature_names is not None else X.columns))\n",
    "        return methods\n",
    "    \n",
    "    def summarize(methods, feature_names=None):\n",
    "        names = []\n",
    "        accuracies = []\n",
    "        parameters = []\n",
    "        features = []\n",
    "        for k in methods:\n",
    "            m = methods[k]\n",
    "            names.append(k)\n",
    "            accuracies.append(np.max(m.test_accuracy))\n",
    "            parameters.append('%s = %s' % (m._setting_name, m._setting[np.argmax(m.test_accuracy)]))\n",
    "            if m.coef is not None:\n",
    "                features.append(feature_names[np.argmax(m.coef)])\n",
    "            else:\n",
    "                features.append('None')\n",
    "        \n",
    "        return pd.DataFrame(zip(names, accuracies, parameters, features), columns=['Model', 'Accuracy', 'Parameter', 'Feature'])\n",
    "\n",
    "class KNN(MLModels):\n",
    "    _setting_name = 'n_neighbors'\n",
    "    pred_var_setting = None\n",
    "   \n",
    "    def __init__(self, neighbor_setting):\n",
    "        super().__init__()\n",
    "        self._setting = neighbor_setting\n",
    "    \n",
    "class KNNClassifier(KNN):\n",
    "    model = KNeighborsClassifier\n",
    "\n",
    "class KNNRegressor(KNN):\n",
    "    model = partial(KNeighborsRegressor, algorithm='kd_tree')\n",
    "\n",
    "class LinearRegressor(MLModels):\n",
    "    model = None\n",
    "    _setting_name = 'alpha'\n",
    "    \n",
    "    def __init__(self, alpha):\n",
    "        super().__init__()\n",
    "        self._setting = alpha\n",
    "        \n",
    "class LassoRegressor(LinearRegressor):\n",
    "    model = partial(Lasso, max_iter=10000)\n",
    "    \n",
    "class RidgeRegressor(LinearRegressor):\n",
    "    model = Ridge\n",
    "\n",
    "class LinearClassifier(LinearRegressor):\n",
    "    model = None\n",
    "    _setting_name = 'C'\n",
    "    \n",
    "    def __init__(self, C, reg='l2'):\n",
    "        self._setting = C\n",
    "        self._init_model(reg)\n",
    "        \n",
    "    def _init_model(self, reg):\n",
    "        raise NotImplementedError()\n",
    "    \n",
    "class LogisticRegressor(LinearClassifier):\n",
    "    def _init_model(self, reg):\n",
    "        self.model = partial(LogisticRegression, solver='liblinear', penalty=reg)\n",
    "        \n",
    "class LinearSVM(LinearClassifier):\n",
    "    def _init_model(self, reg):\n",
    "        self.model = partial(LinearSVC, loss='squared_hinge', dual=False, penalty=reg)"
   ]
  },
  {
   "cell_type": "code",
   "execution_count": 3,
   "metadata": {},
   "outputs": [],
   "source": [
    "from sklearn.datasets import load_breast_cancer\n",
    "cancer = load_breast_cancer()"
   ]
  },
  {
   "cell_type": "code",
   "execution_count": 4,
   "metadata": {},
   "outputs": [
    {
     "name": "stdout",
     "output_type": "stream",
     "text": [
      "KNN\n"
     ]
    },
    {
     "data": {
      "application/vnd.jupyter.widget-view+json": {
       "model_id": "053ee0defad84dc5bdd06c5117256523",
       "version_major": 2,
       "version_minor": 0
      },
      "text/plain": [
       "HBox(children=(IntProgress(value=0, max=250), HTML(value='')))"
      ]
     },
     "metadata": {},
     "output_type": "display_data"
    },
    {
     "name": "stdout",
     "output_type": "stream",
     "text": [
      "\n",
      "Logistic Regression (L1)\n"
     ]
    },
    {
     "data": {
      "application/vnd.jupyter.widget-view+json": {
       "model_id": "b84c6ab2988749c5ab2c1a3afc10d5da",
       "version_major": 2,
       "version_minor": 0
      },
      "text/plain": [
       "HBox(children=(IntProgress(value=0, max=95), HTML(value='')))"
      ]
     },
     "metadata": {},
     "output_type": "display_data"
    },
    {
     "name": "stdout",
     "output_type": "stream",
     "text": [
      "\n",
      "Logistic Regression (L2)\n"
     ]
    },
    {
     "data": {
      "application/vnd.jupyter.widget-view+json": {
       "model_id": "b0af990b7c34490bb6f5e1e6249fde25",
       "version_major": 2,
       "version_minor": 0
      },
      "text/plain": [
       "HBox(children=(IntProgress(value=0, max=95), HTML(value='')))"
      ]
     },
     "metadata": {},
     "output_type": "display_data"
    },
    {
     "name": "stdout",
     "output_type": "stream",
     "text": [
      "\n",
      "SVC (L1)\n"
     ]
    },
    {
     "data": {
      "application/vnd.jupyter.widget-view+json": {
       "model_id": "206f078fdcad4509b075b94283246a09",
       "version_major": 2,
       "version_minor": 0
      },
      "text/plain": [
       "HBox(children=(IntProgress(value=0, max=95), HTML(value='')))"
      ]
     },
     "metadata": {},
     "output_type": "display_data"
    },
    {
     "name": "stdout",
     "output_type": "stream",
     "text": [
      "\n",
      "SVC (L2)\n"
     ]
    },
    {
     "data": {
      "application/vnd.jupyter.widget-view+json": {
       "model_id": "cee5f89720fa4d36892577faa136ce04",
       "version_major": 2,
       "version_minor": 0
      },
      "text/plain": [
       "HBox(children=(IntProgress(value=0, max=95), HTML(value='')))"
      ]
     },
     "metadata": {},
     "output_type": "display_data"
    },
    {
     "name": "stdout",
     "output_type": "stream",
     "text": [
      "\n",
      "                      Model  Accuracy         Parameter         Feature\n",
      "0                       KNN  0.932867  n_neighbors = 10            None\n",
      "1  Logistic Regression (L1)  0.969231          C = 1000  mean perimeter\n",
      "2  Logistic Regression (L2)  0.967832          C = 1000  mean perimeter\n",
      "3                  SVC (L1)  0.966434            C = 15  mean perimeter\n",
      "4                  SVC (L2)  0.960839           C = 300    worst radius\n"
     ]
    }
   ],
   "source": [
    "MLModels.n_trials = 5 # Change n_trials for all models\n",
    "m = MLModels.run_classifier(cancer.data, cancer.target, cancer.feature_names)"
   ]
  },
  {
   "cell_type": "code",
   "execution_count": 5,
   "metadata": {},
   "outputs": [
    {
     "data": {
      "image/png": "[encoded data removed]",
      "text/plain": [
       "<Figure size 432x288 with 1 Axes>"
      ]
     },
     "metadata": {
      "needs_background": "light"
     },
     "output_type": "display_data"
    }
   ],
   "source": [
    "ax = m['Logistic Regression (L1)'].plot_accuracy()\n",
    "ax.set_ylim(0.9, 1)\n",
    "ax.set_xscale('log')"
   ]
  },
  {
   "cell_type": "markdown",
   "metadata": {},
   "source": [
    "## Scratch below this line"
   ]
  },
  {
   "cell_type": "code",
   "execution_count": null,
   "metadata": {},
   "outputs": [],
   "source": [
    "knn = LassoRegressor(alpha)\n",
    "knn.n_trials = 1\n",
    "m = knn.calculate_accuracy(df, targets)"
   ]
  },
  {
   "cell_type": "code",
   "execution_count": null,
   "metadata": {},
   "outputs": [],
   "source": [
    "knn.plot_test_train()"
   ]
  },
  {
   "cell_type": "code",
   "execution_count": null,
   "metadata": {},
   "outputs": [],
   "source": [
    "knn.top_pred"
   ]
  },
  {
   "cell_type": "code",
   "execution_count": null,
   "metadata": {},
   "outputs": [],
   "source": [
    "knn.coef"
   ]
  },
  {
   "cell_type": "code",
   "execution_count": null,
   "metadata": {},
   "outputs": [],
   "source": [
    "np.argmax(np.abs(knn.coef))"
   ]
  },
  {
   "cell_type": "code",
   "execution_count": null,
   "metadata": {},
   "outputs": [],
   "source": [
    "df.columns"
   ]
  },
  {
   "cell_type": "code",
   "execution_count": null,
   "metadata": {},
   "outputs": [],
   "source": [
    "dict(knn.coef)"
   ]
  },
  {
   "cell_type": "code",
   "execution_count": null,
   "metadata": {},
   "outputs": [],
   "source": [
    "hasattr()"
   ]
  },
  {
   "cell_type": "code",
   "execution_count": null,
   "metadata": {},
   "outputs": [],
   "source": [
    "df = pd.read_excel('parkinsons_updrs.xlsx')"
   ]
  },
  {
   "cell_type": "code",
   "execution_count": null,
   "metadata": {},
   "outputs": [],
   "source": [
    "targets = df.loc[:, 'Target']\n",
    "df.drop('Target', axis=1, inplace=True)"
   ]
  },
  {
   "cell_type": "code",
   "execution_count": null,
   "metadata": {},
   "outputs": [],
   "source": [
    "knn = KNNRegressor(range(1, 10, 1))\n",
    "knn.n_trials = 5"
   ]
  },
  {
   "cell_type": "code",
   "execution_count": null,
   "metadata": {},
   "outputs": [],
   "source": [
    "knn.calculate_accuracy(df, targets)"
   ]
  },
  {
   "cell_type": "code",
   "execution_count": null,
   "metadata": {},
   "outputs": [],
   "source": [
    "knn.plot_test_train()"
   ]
  },
  {
   "cell_type": "code",
   "execution_count": null,
   "metadata": {},
   "outputs": [],
   "source": [
    "alpha = [1e-12, 1e-10, 1e-8, 1e-4, 1e-3,0.1, 0.2,0.4, 0.75, 1, 1.5, 3, 5, 10, 15,  20]"
   ]
  },
  {
   "cell_type": "code",
   "execution_count": null,
   "metadata": {},
   "outputs": [],
   "source": [
    "lr = LassoRegressor(alpha)\n",
    "lr.n_trials = 5"
   ]
  },
  {
   "cell_type": "code",
   "execution_count": null,
   "metadata": {},
   "outputs": [],
   "source": [
    "lr.calculate_accuracy(df, targets)"
   ]
  },
  {
   "cell_type": "code",
   "execution_count": null,
   "metadata": {},
   "outputs": [],
   "source": [
    "lr.plot_test_train()"
   ]
  },
  {
   "cell_type": "code",
   "execution_count": null,
   "metadata": {},
   "outputs": [],
   "source": [
    "rr = RidgeRegressor(alpha)\n",
    "rr.n_trials = 5"
   ]
  },
  {
   "cell_type": "code",
   "execution_count": null,
   "metadata": {},
   "outputs": [],
   "source": [
    "rr.calculate_accuracy(df, targets)"
   ]
  },
  {
   "cell_type": "code",
   "execution_count": null,
   "metadata": {},
   "outputs": [],
   "source": [
    "{1}.union({2})"
   ]
  },
  {
   "cell_type": "code",
   "execution_count": null,
   "metadata": {},
   "outputs": [],
   "source": [
    "rr.plot_test_train()"
   ]
  },
  {
   "cell_type": "code",
   "execution_count": null,
   "metadata": {},
   "outputs": [],
   "source": [
    "rr.model"
   ]
  },
  {
   "cell_type": "code",
   "execution_count": null,
   "metadata": {},
   "outputs": [],
   "source": [
    "from sklearn.datasets import load_breast_cancer\n",
    "cancer = load_breast_cancer()"
   ]
  },
  {
   "cell_type": "code",
   "execution_count": null,
   "metadata": {},
   "outputs": [],
   "source": [
    "n_nb = list(range(1, 51))"
   ]
  },
  {
   "cell_type": "code",
   "execution_count": null,
   "metadata": {},
   "outputs": [],
   "source": [
    "knnc = KNNClassifier(n_nb)"
   ]
  },
  {
   "cell_type": "code",
   "execution_count": null,
   "metadata": {},
   "outputs": [],
   "source": [
    "knnc.calculate_accuracy(cancer.data, cancer.target)"
   ]
  },
  {
   "cell_type": "code",
   "execution_count": null,
   "metadata": {},
   "outputs": [],
   "source": [
    "knnc.plot_test_train()"
   ]
  },
  {
   "cell_type": "code",
   "execution_count": null,
   "metadata": {},
   "outputs": [],
   "source": [
    "C = [1e-8, 1e-4, 1e-3,0.1, 0.2,0.4, 0.75, 1, 1.5, 3, 5, 10, 15,  20, 100, 300, 1000, 5000]"
   ]
  },
  {
   "cell_type": "code",
   "execution_count": null,
   "metadata": {},
   "outputs": [],
   "source": [
    "logr = LogisticRegressor(C)\n",
    "# logr.n_trials = 2"
   ]
  },
  {
   "cell_type": "code",
   "execution_count": null,
   "metadata": {},
   "outputs": [],
   "source": [
    "logr.calculate_accuracy(cancer.data, cancer.target)"
   ]
  },
  {
   "cell_type": "code",
   "execution_count": null,
   "metadata": {},
   "outputs": [],
   "source": [
    "cancer.feature_names[np.argmax(logr.coef)]"
   ]
  },
  {
   "cell_type": "code",
   "execution_count": null,
   "metadata": {},
   "outputs": [],
   "source": [
    "ax = logr.plot_test_train()\n",
    "ax.set_ylim(0.9, 1)\n",
    "ax.set_xscale('log')"
   ]
  },
  {
   "cell_type": "code",
   "execution_count": null,
   "metadata": {},
   "outputs": [],
   "source": [
    "logr1 = LogisticRegressor(C, 'l1')"
   ]
  },
  {
   "cell_type": "code",
   "execution_count": null,
   "metadata": {},
   "outputs": [],
   "source": [
    "logr1.calculate_accuracy(cancer.data, cancer.target)"
   ]
  },
  {
   "cell_type": "code",
   "execution_count": null,
   "metadata": {},
   "outputs": [],
   "source": [
    "ax = logr1.plot_test_train()\n",
    "ax.set_ylim(0.9, 1)\n",
    "ax.set_xscale('log')"
   ]
  },
  {
   "cell_type": "code",
   "execution_count": null,
   "metadata": {},
   "outputs": [],
   "source": [
    "np.max(logr1.test_accuracy)"
   ]
  },
  {
   "cell_type": "code",
   "execution_count": null,
   "metadata": {},
   "outputs": [],
   "source": [
    "C[np.argmax(logr1.test_accuracy)]"
   ]
  },
  {
   "cell_type": "code",
   "execution_count": null,
   "metadata": {},
   "outputs": [],
   "source": [
    "cancer.feature_names[np.argmax(logr1.coef)]"
   ]
  },
  {
   "cell_type": "code",
   "execution_count": null,
   "metadata": {},
   "outputs": [],
   "source": [
    "svc = LinearSVM(C, 'l1')\n",
    "svc.calculate_accuracy(cancer.data, cancer.target)"
   ]
  },
  {
   "cell_type": "code",
   "execution_count": null,
   "metadata": {},
   "outputs": [],
   "source": [
    "ax = svc.plot_test_train()\n",
    "ax.set_ylim(0.9, 1)\n",
    "ax.set_xscale('log')"
   ]
  },
  {
   "cell_type": "code",
   "execution_count": null,
   "metadata": {},
   "outputs": [],
   "source": [
    "cancer.feature_names[np.argmax(svc.coef)]"
   ]
  },
  {
   "cell_type": "code",
   "execution_count": null,
   "metadata": {},
   "outputs": [],
   "source": [
    "alpha = [1e-12, 1e-10, 1e-8, 1e-4, 1e-3,0.1, 0.2,0.4, 0.75, 1, 1.5, 3, 5, 10, 15,  20]\n",
    "C = [1e-8, 1e-4, 1e-3,0.1, 0.2,0.4, 0.75, 1, 1.5, 3, 5, 10, 15,  20, 100, 300, 1000, 5000]\n",
    "n_nb = list(range(1, 51))\n",
    "methods = {\n",
    "    'KNN': KNNClassifier(n_nb),\n",
    "    'Logistic Regression (L1)': LogisticRegressor(C, 'l1'),\n",
    "    'Logistic Regression (L2)': LogisticRegressor(C, 'l2'),\n",
    "    'SVC (L1)': LinearSVM(C, 'l1'),\n",
    "    'SVC (L2)': LinearSVM(C, 'l2')\n",
    "}"
   ]
  },
  {
   "cell_type": "code",
   "execution_count": null,
   "metadata": {},
   "outputs": [],
   "source": [
    "import warnings"
   ]
  },
  {
   "cell_type": "code",
   "execution_count": null,
   "metadata": {},
   "outputs": [],
   "source": [
    "with warnings.catch_warnings():\n",
    "    warnings.filterwarnings(\"ignore\", category=ConvergenceWarning)\n",
    "    names = []\n",
    "    accuracies = []\n",
    "    parameters = []\n",
    "    features = []\n",
    "    for k in methods:\n",
    "        print(k)\n",
    "        m = methods[k]\n",
    "        m.n_trials = 2\n",
    "        m.calculate_accuracy(cancer.data, cancer.target)\n",
    "        \n",
    "        names.append(k)\n",
    "        accuracies.append(np.max(m.test_accuracy))\n",
    "        parameters.append('%s = %s' % (m.setting_title, m.setting[np.argmax(m.test_accuracy)]))\n",
    "        features.append(cancer.feature_names[np.argmax(m.coef)])"
   ]
  },
  {
   "cell_type": "code",
   "execution_count": null,
   "metadata": {},
   "outputs": [],
   "source": [
    "pd.DataFrame(zip(names, accuracies, parameters, features), columns=['Model', 'Accuracy', 'Parameter', 'Feature'])"
   ]
  }
 ],
 "metadata": {
  "kernelspec": {
   "display_name": "Python [conda env:root] *",
   "language": "python",
   "name": "conda-root-py"
  },
  "language_info": {
   "codemirror_mode": {
    "name": "ipython",
    "version": 3
   },
   "file_extension": ".py",
   "mimetype": "text/x-python",
   "name": "python",
   "nbconvert_exporter": "python",
   "pygments_lexer": "ipython3",
   "version": "3.6.8"
  }
 },
 "nbformat": 4,
 "nbformat_minor": 4
}
