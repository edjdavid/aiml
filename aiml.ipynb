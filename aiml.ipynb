{
 "cells": [
  {
   "cell_type": "code",
   "execution_count": 116,
   "metadata": {},
   "outputs": [],
   "source": [
    "import numpy as np\n",
    "import pandas as pd\n",
    "\n",
    "from random import randint\n",
    "from tqdm.autonotebook import tqdm\n",
    "from functools import partial\n",
    "\n",
    "# plotting\n",
    "import matplotlib.pyplot as plt\n",
    "from matplotlib.gridspec import GridSpec\n",
    "\n",
    "# ML algo\n",
    "from sklearn.model_selection import train_test_split\n",
    "from sklearn.neighbors import KNeighborsClassifier, KNeighborsRegressor\n",
    "from sklearn.linear_model import Ridge, Lasso, LinearRegression"
   ]
  },
  {
   "cell_type": "code",
   "execution_count": 132,
   "metadata": {},
   "outputs": [],
   "source": [
    "class MLModels():\n",
    "    model = None\n",
    "    setting_title = None\n",
    "    n_trials = 50\n",
    "    rs_max = 2**32 - 1\n",
    "    \n",
    "    def __init__(self):\n",
    "        self.training_accuracy = None\n",
    "        self.test_accuracy = None\n",
    "        self.training_std = None\n",
    "        self.test_std = None\n",
    "        \n",
    "    def plot_test_train(self):\n",
    "        plt.plot(self.setting, self.training_accuracy, label=\"training accuracy\")\n",
    "        plt.plot(self.setting, self.test_accuracy, label=\"test accuracy\")\n",
    "        plt.fill_between(self.setting, self.training_accuracy-self.training_std, self.training_accuracy+self.training_std, alpha=0.2)\n",
    "        plt.fill_between(self.setting, self.test_accuracy-self.test_std, self.test_accuracy+self.test_std, alpha=0.2)\n",
    "        plt.ylabel(\"Accuracy\")\n",
    "        plt.xlabel(self.setting_title)\n",
    "        plt.legend()\n",
    "        \n",
    "    def calculate_accuracy(self, X, y):\n",
    "        train_accuracies = []\n",
    "        test_accuracies = []\n",
    "        with tqdm(total=self.n_trials*len(self.setting)) as pb:\n",
    "            for i in range(self.n_trials):\n",
    "                X_train, X_test, y_train, y_test = train_test_split(X, y, random_state=randint(0, self.rs_max))\n",
    "                pb.set_description(f'Iter: {i + 1}')\n",
    "                training_accuracy = []\n",
    "                test_accuracy = []\n",
    "                for s in self.setting:\n",
    "                    # build the model\n",
    "                    clf = self.model(**{self.setting_title: s})\n",
    "                    clf.fit(X_train, y_train)\n",
    "                    # record training set accuracy\n",
    "                    training_accuracy.append(clf.score(X_train, y_train))\n",
    "                    # record generalization accuracy\n",
    "                    test_accuracy.append(clf.score(X_test, y_test))\n",
    "                    pb.update(1)\n",
    "                train_accuracies.append(training_accuracy)\n",
    "                test_accuracies.append(test_accuracy)\n",
    "            \n",
    "        self.training_accuracy = np.mean(train_accuracies, axis=0)\n",
    "        self.test_accuracy = np.mean(test_accuracies, axis=0)\n",
    "        self.training_std = np.std(train_accuracies, axis=0)\n",
    "        self.test_std = np.std(test_accuracies, axis=0)\n",
    "\n",
    "class KNNRegressor(MLModels):\n",
    "    model = partial(KNeighborsRegressor, algorithm='kd_tree')\n",
    "    setting_title = 'n_neighbors'\n",
    "    \n",
    "    def __init__(self, neighbor_setting):\n",
    "        super().__init__()\n",
    "        self.setting = neighbor_setting\n",
    "        \n",
    "class LinearRegressor(MLModels):\n",
    "    model = None\n",
    "    setting_title = 'alpha'\n",
    "    \n",
    "    def __init__(self, alpha_runs):\n",
    "        super().__init__()\n",
    "        self.setting = alpha_runs\n",
    "        \n",
    "class LassoRegressor(LinearRegressor):\n",
    "    model = partial(Lasso, max_iter=10000)\n",
    "    \n",
    "class RidgeRegressor(LinearRegressor):\n",
    "    model = Ridge"
   ]
  },
  {
   "cell_type": "code",
   "execution_count": 60,
   "metadata": {},
   "outputs": [
    {
     "data": {
      "text/plain": [
       "0.9535798964249043"
      ]
     },
     "execution_count": 60,
     "metadata": {},
     "output_type": "execute_result"
    }
   ],
   "source": [
    "model = KNeighborsRegressor(n_neighbors=10, algorithm='kd_tree')\n",
    "model.fit(tts[0], tts[2])\n",
    "model.score(tts[1], tts[3])"
   ]
  },
  {
   "cell_type": "code",
   "execution_count": 3,
   "metadata": {},
   "outputs": [],
   "source": [
    "df = pd.read_excel('parkinsons_updrs.xlsx')"
   ]
  },
  {
   "cell_type": "code",
   "execution_count": 4,
   "metadata": {},
   "outputs": [],
   "source": [
    "targets = df.loc[:, 'Target']\n",
    "df.drop('Target', axis=1, inplace=True)"
   ]
  },
  {
   "cell_type": "code",
   "execution_count": 5,
   "metadata": {},
   "outputs": [],
   "source": [
    "tts = train_test_split(df, targets, test_size=0.25)"
   ]
  },
  {
   "cell_type": "code",
   "execution_count": 133,
   "metadata": {},
   "outputs": [],
   "source": [
    "knncs = KNNRegressor(range(1, 10, 1))\n",
    "knncs.n_trials = 5"
   ]
  },
  {
   "cell_type": "code",
   "execution_count": 134,
   "metadata": {},
   "outputs": [
    {
     "data": {
      "application/vnd.jupyter.widget-view+json": {
       "model_id": "c8c446cfdacb4de69bd97c7a24bfcadf",
       "version_major": 2,
       "version_minor": 0
      },
      "text/plain": [
       "HBox(children=(IntProgress(value=0, max=45), HTML(value='')))"
      ]
     },
     "metadata": {},
     "output_type": "display_data"
    },
    {
     "name": "stdout",
     "output_type": "stream",
     "text": [
      "\n"
     ]
    }
   ],
   "source": [
    "knncs.calculate_accuracy(df, targets)"
   ]
  },
  {
   "cell_type": "code",
   "execution_count": 135,
   "metadata": {},
   "outputs": [
    {
     "data": {
      "image/png": "[encoded data removed]",
      "text/plain": [
       "<Figure size 432x288 with 1 Axes>"
      ]
     },
     "metadata": {
      "needs_background": "light"
     },
     "output_type": "display_data"
    }
   ],
   "source": [
    "knncs.plot_test_train()"
   ]
  },
  {
   "cell_type": "code",
   "execution_count": 89,
   "metadata": {},
   "outputs": [],
   "source": [
    "alpha_ridge = [1e-12, 1e-10, 1e-8, 1e-4, 1e-3,0.1, 0.2,0.4, 0.75, 1, 1.5, 3, 5, 10, 15,  20]"
   ]
  },
  {
   "cell_type": "code",
   "execution_count": 94,
   "metadata": {},
   "outputs": [],
   "source": [
    "lr = LassoRegressor(alpha_ridge)"
   ]
  },
  {
   "cell_type": "code",
   "execution_count": 95,
   "metadata": {},
   "outputs": [
    {
     "data": {
      "application/vnd.jupyter.widget-view+json": {
       "model_id": "241676e396a54a50892e5e891154537a",
       "version_major": 2,
       "version_minor": 0
      },
      "text/plain": [
       "HBox(children=(IntProgress(value=0, max=16), HTML(value='')))"
      ]
     },
     "metadata": {},
     "output_type": "display_data"
    },
    {
     "name": "stderr",
     "output_type": "stream",
     "text": [
      "/Users/edavid/anaconda3/lib/python3.6/site-packages/sklearn/linear_model/coordinate_descent.py:475: ConvergenceWarning: Objective did not converge. You might want to increase the number of iterations. Duality gap: 22661.00967394801, tolerance: 50.768572987787465\n",
      "  positive)\n",
      "/Users/edavid/anaconda3/lib/python3.6/site-packages/sklearn/linear_model/coordinate_descent.py:475: ConvergenceWarning: Objective did not converge. You might want to increase the number of iterations. Duality gap: 22639.396473687637, tolerance: 50.768572987787465\n",
      "  positive)\n"
     ]
    },
    {
     "name": "stdout",
     "output_type": "stream",
     "text": [
      "\n"
     ]
    },
    {
     "name": "stderr",
     "output_type": "stream",
     "text": [
      "/Users/edavid/anaconda3/lib/python3.6/site-packages/sklearn/linear_model/coordinate_descent.py:475: ConvergenceWarning: Objective did not converge. You might want to increase the number of iterations. Duality gap: 20773.17337698409, tolerance: 50.768572987787465\n",
      "  positive)\n"
     ]
    }
   ],
   "source": [
    "lr.calculate_accuracy(*tts)"
   ]
  },
  {
   "cell_type": "code",
   "execution_count": 96,
   "metadata": {},
   "outputs": [
    {
     "data": {
      "text/plain": [
       "array([0., 0., 0., 0., 0., 0., 0., 0., 0., 0., 0., 0., 0., 0., 0., 0.])"
      ]
     },
     "execution_count": 96,
     "metadata": {},
     "output_type": "execute_result"
    }
   ],
   "source": [
    "lr.test_std"
   ]
  },
  {
   "cell_type": "code",
   "execution_count": 97,
   "metadata": {},
   "outputs": [
    {
     "data": {
      "image/png": "[encoded data removed]",
      "text/plain": [
       "<Figure size 432x288 with 1 Axes>"
      ]
     },
     "metadata": {
      "needs_background": "light"
     },
     "output_type": "display_data"
    }
   ],
   "source": [
    "lr.plot_test_train()"
   ]
  },
  {
   "cell_type": "code",
   "execution_count": 100,
   "metadata": {},
   "outputs": [],
   "source": [
    "rr = RidgeRegressor(alpha_ridge)"
   ]
  },
  {
   "cell_type": "code",
   "execution_count": 101,
   "metadata": {},
   "outputs": [
    {
     "data": {
      "application/vnd.jupyter.widget-view+json": {
       "model_id": "0753596fe137451aab2c8a25a9896036",
       "version_major": 2,
       "version_minor": 0
      },
      "text/plain": [
       "HBox(children=(IntProgress(value=0, max=16), HTML(value='')))"
      ]
     },
     "metadata": {},
     "output_type": "display_data"
    },
    {
     "name": "stdout",
     "output_type": "stream",
     "text": [
      "\n"
     ]
    }
   ],
   "source": [
    "rr.calculate_accuracy(*tts)"
   ]
  },
  {
   "cell_type": "code",
   "execution_count": 102,
   "metadata": {},
   "outputs": [
    {
     "data": {
      "image/png": "[encoded data removed]",
      "text/plain": [
       "<Figure size 432x288 with 1 Axes>"
      ]
     },
     "metadata": {
      "needs_background": "light"
     },
     "output_type": "display_data"
    }
   ],
   "source": [
    "rr.plot_test_train()"
   ]
  }
 ],
 "metadata": {
  "kernelspec": {
   "display_name": "Python 3",
   "language": "python",
   "name": "python3"
  },
  "language_info": {
   "codemirror_mode": {
    "name": "ipython",
    "version": 3
   },
   "file_extension": ".py",
   "mimetype": "text/x-python",
   "name": "python",
   "nbconvert_exporter": "python",
   "pygments_lexer": "ipython3",
   "version": "3.6.8"
  }
 },
 "nbformat": 4,
 "nbformat_minor": 4
}
